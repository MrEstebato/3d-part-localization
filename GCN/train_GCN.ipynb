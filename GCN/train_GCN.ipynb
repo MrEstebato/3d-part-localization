{
 "cells": [
  {
   "cell_type": "markdown",
   "id": "983687be",
   "metadata": {},
   "source": [
    "# Train GCN for Heat Stake Recognition"
   ]
  },
  {
   "cell_type": "code",
   "execution_count": null,
   "id": "b5421503",
   "metadata": {},
   "outputs": [],
   "source": [
    "import torch.nn as nn\n",
    "import torch.nn.functional as F\n",
    "import torch\n",
    "import numpy\n",
    "from GCN import GCN"
   ]
  },
  {
   "cell_type": "markdown",
   "id": "5f576466",
   "metadata": {},
   "source": [
    "## What dataset do we use for training?"
   ]
  },
  {
   "cell_type": "code",
   "execution_count": null,
   "id": "e8c6c074",
   "metadata": {},
   "outputs": [],
   "source": []
  }
 ],
 "metadata": {
  "kernelspec": {
   "display_name": "heatstakes",
   "language": "python",
   "name": "python3"
  },
  "language_info": {
   "name": "python",
   "version": "3.10.18"
  }
 },
 "nbformat": 4,
 "nbformat_minor": 5
}
