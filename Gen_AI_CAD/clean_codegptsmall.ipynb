{
 "cells": [
  {
   "cell_type": "code",
   "execution_count": 1,
   "metadata": {},
   "outputs": [],
   "source": [
    "import os\n",
    "import re\n",
    "import json\n",
    "import pickle"
   ]
  },
  {
   "cell_type": "code",
   "execution_count": 2,
   "metadata": {},
   "outputs": [],
   "source": [
    "with open(\"../gptsmall_filtered_index.pkl\", \"rb\") as f:\n",
    "    index_list = pickle.load(f)"
   ]
  },
  {
   "cell_type": "code",
   "execution_count": 6,
   "metadata": {},
   "outputs": [],
   "source": [
    "input_dir = './txt'\n",
    "output_dir = './cq'\n",
    "\n",
    "file_data = []\n",
    "bad_filenames = []"
   ]
  },
  {
   "cell_type": "code",
   "execution_count": 7,
   "metadata": {},
   "outputs": [],
   "source": [
    "import re\n",
    "\n",
    "def clean_code(text, new_filename):\n",
    "    start = text.find(\"import cadquery\")\n",
    "    if start == -1:\n",
    "        print(\"can not find 'import cadquery'\")\n",
    "        return None\n",
    "\n",
    "    cleaned = text[start:]\n",
    "\n",
    "    export_pattern = r\"cq\\.exporters\\.export\\s*\\(\\s*([^,]+),\\s*['\\\"].*?\\.stl['\\\"].*?\\)\"\n",
    "    matches = list(re.finditer(export_pattern, cleaned))\n",
    "\n",
    "    incomplete_pattern = r\"cq\\.exporters\\.[^\\n]*$\"\n",
    "    incomplete_matches = re.findall(incomplete_pattern, cleaned, re.MULTILINE)\n",
    "    \n",
    "    if not matches and not incomplete_matches:\n",
    "        print(\"[WARNING] No export statement found\")\n",
    "        return None\n",
    "\n",
    "    first_param = matches[0].group(1).strip()\n",
    "    \n",
    "    cleaned_wo_exports = re.sub(export_pattern, \"\", cleaned)\n",
    "    \n",
    "    lines = cleaned_wo_exports.split('\\n')\n",
    "    cleaned_lines = []\n",
    "    for line in lines:\n",
    "        if not re.search(r\"cq\\.exporters\\.\", line):\n",
    "            cleaned_lines.append(line)\n",
    "    cleaned_wo_exports = '\\n'.join(cleaned_lines)\n",
    "    \n",
    "    final_code = cleaned_wo_exports.strip() + f\"\\n\\ncq.exporters.export({first_param}, \\\"{new_filename}\\\")\"\n",
    "\n",
    "    return final_code"
   ]
  },
  {
   "cell_type": "code",
   "execution_count": 8,
   "metadata": {},
   "outputs": [],
   "source": [
    "failed_case = []"
   ]
  },
  {
   "cell_type": "code",
   "execution_count": null,
   "metadata": {},
   "outputs": [],
   "source": [
    "for i in range(5198):\n",
    "    full_path = os.path.join(input_dir, f'{i}.txt') \n",
    "    with open(full_path, \"r\", encoding=\"utf-8\") as f:\n",
    "        text = f.read()\n",
    "        cleaned_code = clean_code(text, f'./cq/{index_list[i]}')\n",
    "    if cleaned_code:\n",
    "        filename = index_list[i].replace(\".stl\", \"\")\n",
    "        output_path = os.path.join(output_dir, f\"{filename}.py\")\n",
    "        with open(output_path, \"w\", encoding=\"utf-8\") as f_out:\n",
    "            f_out.write(cleaned_code)\n",
    "    else:\n",
    "        print(f'error: {i} no cleaned code')\n",
    "        failed_case.append(i)"
   ]
  },
  {
   "cell_type": "code",
   "execution_count": 24,
   "metadata": {},
   "outputs": [],
   "source": [
    "failed_files = []\n",
    "success_files = []"
   ]
  },
  {
   "cell_type": "code",
   "execution_count": null,
   "metadata": {},
   "outputs": [],
   "source": [
    "import os\n",
    "import subprocess\n",
    "\n",
    "python_dir = './cq'\n",
    "\n",
    "for filename in sorted(os.listdir(python_dir)):\n",
    "    if filename.endswith('.py') and not filename.startswith('._'):\n",
    "        file_path = os.path.join(python_dir, filename)\n",
    "        try:\n",
    "            result = subprocess.run(['python', file_path], capture_output=True, text=True, timeout=30)\n",
    "            \n",
    "            if result.returncode != 0:\n",
    "                print(f\"FAILED] Execution failed: {filename}\")\n",
    "                failed_files.append(filename)\n",
    "            else:\n",
    "                print(f\"[SUCCESS] Successfully executed: {filename}\")\n",
    "                success_files.append(filename)\n",
    "\n",
    "        except subprocess.TimeoutExpired:\n",
    "            print(f\"[TIMEOUT] Execution timed out: {filename}\")\n",
    "            failed_files.append(filename)\n",
    "\n",
    "        except Exception as e:\n",
    "            print(f\"ERROR] Exception occurred: {filename} -> {e}\")\n",
    "            failed_files.append(filename)\n"
   ]
  },
  {
   "cell_type": "code",
   "execution_count": null,
   "metadata": {},
   "outputs": [],
   "source": [
    "print(len(failed_files))\n",
    "print(len(success_files))"
   ]
  }
 ],
 "metadata": {
  "kernelspec": {
   "display_name": "slice100k",
   "language": "python",
   "name": "python3"
  },
  "language_info": {
   "codemirror_mode": {
    "name": "ipython",
    "version": 3
   },
   "file_extension": ".py",
   "mimetype": "text/x-python",
   "name": "python",
   "nbconvert_exporter": "python",
   "pygments_lexer": "ipython3",
   "version": "3.10.16"
  }
 },
 "nbformat": 4,
 "nbformat_minor": 2
}
